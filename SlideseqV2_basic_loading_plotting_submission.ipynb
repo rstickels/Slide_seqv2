{
 "cells": [
  {
   "cell_type": "code",
   "execution_count": null,
   "metadata": {},
   "outputs": [],
   "source": [
    "#this script walks through loading and plotting Slide-seq data\n",
    "\n"
   ]
  },
  {
   "cell_type": "code",
   "execution_count": null,
   "metadata": {},
   "outputs": [],
   "source": [
    "#load libraries\n",
    "import pandas as pd\n",
    "import numpy as np\n",
    "from IPython.display import display\n",
    "import seaborn as sns\n",
    "import matplotlib.pyplot as plt\n",
    "import sys\n",
    "import os\n",
    "from sklearn.preprocessing import StandardScaler\n",
    "from IPython.display import display\n",
    "import datetime\n",
    "\n",
    "now = datetime.datetime.now()\n",
    "import scipy.optimize\n",
    "import scipy.stats\n",
    "import os\n",
    "\n",
    "%pylab inline\n",
    "\n",
    "rcParams['axes.spines.right'] = False\n",
    "rcParams['axes.spines.top'] = False\n",
    "from sklearn.preprocessing import StandardScaler\n",
    "import matplotlib.patches as mpatches\n",
    "\n",
    "import scanpy as sc"
   ]
  },
  {
   "cell_type": "code",
   "execution_count": null,
   "metadata": {},
   "outputs": [],
   "source": [
    "##########if you are using slideseq tools pipeline you want to use this method for loading the data\n",
    "dge_path = \"path_to_bead_counts/bead_counts.txt.gz\"\n",
    "dge = pd.read_csv(dge_path, header = 0, index_col = 0, engine = 'python', sep = '\\t') #check the first row if it is not bead barcodes add skiprows = X where x is the number of rows until bead barcodes"
   ]
  },
  {
   "cell_type": "code",
   "execution_count": null,
   "metadata": {},
   "outputs": [],
   "source": [
    "dge\n",
    "dge = dge.T\n",
    "dge = dge.reset_index()\n",
    "dge = dge.rename(columns={'index':'barcode'})"
   ]
  },
  {
   "cell_type": "code",
   "execution_count": null,
   "metadata": {},
   "outputs": [],
   "source": []
  },
  {
   "cell_type": "code",
   "execution_count": null,
   "metadata": {},
   "outputs": [],
   "source": [
    "#coordinate files come as two separate files now\n",
    "#point this to the barcode matching directory\n",
    "coords = pd.read_csv(\"path_to_bead_locations/beadlocations.csv\",header = None)\n"
   ]
  },
  {
   "cell_type": "code",
   "execution_count": null,
   "metadata": {},
   "outputs": [],
   "source": [
    "#check to make sure file is loaded properly\n",
    "coords"
   ]
  },
  {
   "cell_type": "code",
   "execution_count": null,
   "metadata": {},
   "outputs": [],
   "source": [
    "\n",
    "#for jilongs pipeline only comment out if needed\n",
    "df_merged = dge.merge(coords, right_on='barcode', left_on='barcode')\n",
    "counts = df_merged.drop(['xcoord', 'ycoord'], axis=1)\n",
    "df_merged = 0"
   ]
  },
  {
   "cell_type": "code",
   "execution_count": null,
   "metadata": {},
   "outputs": [],
   "source": [
    "counts_gr0_barcodestotals = np.sum(counts.drop('barcode', axis=1), axis=1)\n",
    "print(counts_gr0_barcodestotals.shape)\n",
    "#coords = coords.reset_index()\n",
    "coords['total_counts'] = counts_gr0_barcodestotals\n",
    "print(coords.shape)\n",
    "coords.head(5)\n",
    "plt.figure(figsize = (12,12))\n",
    "plt.set_cmap('viridis_r')\n",
    "plt.scatter(coords['xcoord'], coords['ycoord'], c=coords['total_counts'], s=4, alpha=0.6, vmax=2000);\n",
    "plt.axis('equal');\n",
    "plt.colorbar();\n",
    "#plt.savefig(\"{}/{}.png\".format(\"path\", \"file_name\"), dpi = 200)\n",
    "plt.show();\n",
    "\n",
    "\n",
    "\n",
    "\n"
   ]
  },
  {
   "cell_type": "code",
   "execution_count": null,
   "metadata": {
    "scrolled": false
   },
   "outputs": [],
   "source": [
    "def plot_one_gene(gene):\n",
    "    figsize(10, 10)\n",
    "    pyplot.set_cmap('magma_r')\n",
    "    plt.scatter(coords['xcoord'], coords['ycoord'], c=dge[gene], s=0.5, alpha=1)\n",
    "    plt.axis('equal')\n",
    "    plt.vmin = 0\n",
    "    plt.title('{}'.format(gene))\n",
    "    plt.colorbar();\n",
    "    #save_result(gene)\n",
    "    #plt.savefig(\"{}/{}.png\".format(\"path\", gene), dpi = 200)\n",
    "    plt.show()\n",
    "\n",
    "#gene names from mouse hippocampal and cell type markers\n",
    "interesting_genes = ['Gfap', 'Hpca', 'Atp2b1', 'Slc17a7', 'Ociad2', 'Gad2']\n",
    "print(interesting_genes)\n",
    "for g in interesting_genes:\n",
    "    plot_one_gene(gene=g)"
   ]
  }
 ],
 "metadata": {
  "kernelspec": {
   "display_name": "Python 3",
   "language": "python",
   "name": "python3"
  },
  "language_info": {
   "codemirror_mode": {
    "name": "ipython",
    "version": 3
   },
   "file_extension": ".py",
   "mimetype": "text/x-python",
   "name": "python",
   "nbconvert_exporter": "python",
   "pygments_lexer": "ipython3",
   "version": "3.6.7"
  }
 },
 "nbformat": 4,
 "nbformat_minor": 2
}
