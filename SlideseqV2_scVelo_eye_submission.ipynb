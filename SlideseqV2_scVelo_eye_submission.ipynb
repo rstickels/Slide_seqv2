{
 "cells": [
  {
   "cell_type": "code",
   "execution_count": null,
   "metadata": {},
   "outputs": [],
   "source": [
    "#this notebook should be used for loading data for running scVelo on slideseq data\n",
    "# it follows many of the commands used from the scvelo tutorial\n",
    "# note this was done using scvelo 0.1.12 so some syntax may have changed since this release\n",
    "# https://scvelo.readthedocs.io/\n",
    "# the files will be available on single cell portal in the study for slideseqv2"
   ]
  },
  {
   "cell_type": "code",
   "execution_count": null,
   "metadata": {},
   "outputs": [],
   "source": [
    "import numpy as np\n",
    "%matplotlib inline\n",
    "import scanpy as sc\n",
    "import scvelo as scv\n",
    "scv.logging.print_version()\n",
    "import pandas as pd"
   ]
  },
  {
   "cell_type": "code",
   "execution_count": null,
   "metadata": {},
   "outputs": [],
   "source": [
    "\n",
    "scv.settings.verbosity = 3  # show errors(0), warnings(1), info(2), hints(3)\n",
    "scv.settings.set_figure_params('scvelo')  # for beautified visualization"
   ]
  },
  {
   "cell_type": "code",
   "execution_count": null,
   "metadata": {},
   "outputs": [],
   "source": [
    "#####################################\n",
    "#here we load two matrices for intronic and exonic counts\n",
    "eyedata_lens_intronic = sc.read_mtx(\"path/Puck_190926_03_eye_intronic_DGE_lens.mtx\")\n",
    "eyedata_lens_intronic.layers['unspliced'] = eyedata_lens_intronic.X\n",
    "eyedata_lens_exonic = sc.read_mtx(\"path/Puck_190926_03_eye_exonic_DGE_lens.mtx\")\n",
    "eyedata_lens_exonic.layers['spliced'] = eyedata_lens_exonic.X\n",
    "\n",
    "eyedata_lens = scv.utils.merge(eyedata_lens_exonic, eyedata_lens_intronic)"
   ]
  },
  {
   "cell_type": "code",
   "execution_count": null,
   "metadata": {},
   "outputs": [],
   "source": [
    "#here we load precomputed UMAP coordinates, this is due to previously using Seurat for generation of the UMAP coordinates in R\n",
    "# Seuratv3: https://satijalab.org/seurat/\n",
    "# Another associated file for generating UMAP coordinates is also included in this repository\n",
    "\n",
    "#cluster names precomputed in Seurat\n",
    "eyedata_clusters_lens = scv.load(\"path/Puck_190926_03_clusters_lens.csv\", index_col = 0)\n",
    "eyedata_lens.obs = eyedata_clusters_lens\n",
    "#UMAP coordinates for the lens precomputed from seurat\n",
    "eyedata_UMAP_lens = scv.load(\"path/Puck_190926_03_umap_lens.csv\")\n",
    "eyedata_lens.obsm[\"X_umap\"] = eyedata_UMAP_lens.values.astype(np.float32)\n",
    "#spatial coordinates added into scanpy object\n",
    "eyedata_spatial_lens = scv.load(\"path/Puck_190926_03_spatial_lens.csv\")\n",
    "eyedata_lens.obsm[\"X_spatial\"] = eyedata_spatial_lens.values.astype(np.float32)\n",
    "#read in the gene names for the lens\n",
    "eyedata_lens.var=scv.load(\"path/Puck_190926_03_vargenes_lens.csv\")\n",
    "eyedata_lens.var.index = eyedata_lens.var[\"x\"]\n",
    "\n"
   ]
  },
  {
   "cell_type": "code",
   "execution_count": null,
   "metadata": {},
   "outputs": [],
   "source": [
    "#now run normalization\n",
    "scv.pp.filter_and_normalize(eyedata_lens, min_shared_counts=3)\n",
    "scv.pp.moments(eyedata_lens, n_pcs=50, n_neighbors=37)\n",
    "scv.tl.velocity(eyedata_lens)\n",
    "scv.tl.velocity_graph(eyedata_lens)\n",
    "scv.pl.velocity_embedding_stream(eyedata_lens, basis='spatial')\n",
    "scv.pl.velocity_embedding_stream(eyedata_lens, basis = 'umap')\n",
    "eyedata_lens.var"
   ]
  },
  {
   "cell_type": "code",
   "execution_count": null,
   "metadata": {
    "scrolled": false
   },
   "outputs": [],
   "source": [
    "\n",
    "scv.tl.recover_dynamics(eyedata_lens, n_top_genes=700, fit_connected_states=True)\n",
    "scv.tl.velocity(eyedata_lens, mode='stochastic')\n",
    "scv.tl.velocity_graph(eyedata_lens)\n",
    "scv.tl.recover_latent_time(eyedata_lens)\n",
    "#plot onto UMAP coordinates\n",
    "scv.pl.scatter(eyedata_lens, color='latent_time', fontsize=20, size=100, color_map='gnuplot', colorbar=True, rescale_color=[0,1])\n"
   ]
  },
  {
   "cell_type": "code",
   "execution_count": null,
   "metadata": {
    "scrolled": false
   },
   "outputs": [],
   "source": [
    "\n",
    "#plot latent time trajectory over spatial coordinates\n",
    "scv.pl.scatter(eyedata_lens, color='latent_time', fontsize=20, size = 100, color_map='gnuplot', basis = 'spatial', colorbar=True, rescale_color=[0,1])"
   ]
  },
  {
   "cell_type": "code",
   "execution_count": null,
   "metadata": {},
   "outputs": [],
   "source": [
    "#plot stream plot over spatial coordinates\n",
    "scv.pl.velocity_embedding_stream(eyedata_lens, basis='spatial')\n",
    "scv.pl.velocity_embedding_stream(eyedata_lens, basis = 'umap')\n",
    "scv.pl.scatter(eyedata_lens, color='latent_time', fontsize=20, size = 100, color_map='gnuplot', basis = 'spatial', colorbar=True, rescale_color=[0,1],save=\"EYE_LATENT_TIME\")\n"
   ]
  },
  {
   "cell_type": "code",
   "execution_count": null,
   "metadata": {
    "scrolled": false
   },
   "outputs": [],
   "source": [
    "#plot expression of some marker genes from the eye over the latent time axis\n",
    "scv.pl.scatter(eyedata_lens, x='latent_time', y=['Crybb1','Cryba1','Caprin2','Bfsp2','Prox1'], fontsize=16, size=100,\n",
    "               n_convolve=None, frameon=False, legend_loc='none', save = \"positive_controls_latent_time_eye\")"
   ]
  },
  {
   "cell_type": "code",
   "execution_count": null,
   "metadata": {},
   "outputs": [],
   "source": [
    "scv.pl.velocity_embedding(eyedata_lens, basis='spatial', arrow_length=2, arrow_size=1.5, dpi=150)\n"
   ]
  },
  {
   "cell_type": "code",
   "execution_count": null,
   "metadata": {},
   "outputs": [],
   "source": [
    "#take the coordinates from the scanpy object for plotting individual genes\n",
    "spatial_bead_coords = pd.DataFrame(eyedata_lens.obsm['X_spatial'], index = eyedata_lens.obs['clusters'].index)"
   ]
  },
  {
   "cell_type": "code",
   "execution_count": null,
   "metadata": {},
   "outputs": [],
   "source": [
    "spatial_bead_coords.columns = [\"xcoord\",\"ycoord\"]"
   ]
  },
  {
   "cell_type": "code",
   "execution_count": null,
   "metadata": {},
   "outputs": [],
   "source": [
    "####here we want to plot the counts for the spliced and non spliced reads\n",
    "#load libraries\n",
    "import pandas as pd\n",
    "import numpy as np\n",
    "from IPython.display import display\n",
    "import seaborn as sns\n",
    "import matplotlib.pyplot as plt\n",
    "import sys\n",
    "import os\n",
    "from sklearn.preprocessing import StandardScaler\n",
    "from IPython.display import display\n",
    "import datetime\n",
    "\n",
    "now = datetime.datetime.now()\n",
    "import scipy.optimize\n",
    "import scipy.stats\n",
    "import os\n",
    "\n",
    "%pylab inline\n",
    "\n",
    "rcParams['axes.spines.right'] = False\n",
    "rcParams['axes.spines.top'] = False\n",
    "from sklearn.preprocessing import StandardScaler\n",
    "import matplotlib.patches as mpatches\n",
    "\n",
    "import scanpy as sc"
   ]
  },
  {
   "cell_type": "code",
   "execution_count": null,
   "metadata": {},
   "outputs": [],
   "source": [
    "#regeneration of object to just get raw counts not necessary if you have the raw dge saved in the anndata object that was created earlier\n",
    "eyedata_lens_intronic = sc.read_mtx(\"path/Puck_190926_03_eye_intronic_DGE_lens.mtx\")\n",
    "eyedata_lens_intronic.layers['unspliced'] = eyedata_lens_intronic.X\n",
    "eyedata_lens_exonic = sc.read_mtx(\"path/Puck_190926_03_eye_exonic_DGE_lens.mtx\")\n",
    "eyedata_lens_exonic.layers['spliced'] = eyedata_lens_exonic.X\n",
    "\n",
    "eyedata_lens_raw = scv.utils.merge(eyedata_lens_exonic, eyedata_lens_intronic)\n",
    "eyedata_clusters_lens = scv.load(\"path/Puck_190926_03_clusters_lens.csv\", index_col = 0)\n",
    "eyedata_lens_raw.obs = eyedata_clusters_lens\n",
    "eyedata_UMAP_lens = scv.load(\"path/Puck_190926_03_umap_lens.csv\")\n",
    "eyedata_lens_raw.obsm[\"X_umap\"] = eyedata_UMAP_lens.values.astype(np.float32)\n",
    "eyedata_spatial_lens = scv.load(\"path/Puck_190926_03_spatial_lens.csv\")\n",
    "eyedata_lens_raw.obsm[\"X_spatial\"] = eyedata_spatial_lens.values.astype(np.float32)\n",
    "#read in the gene names for the lens\n",
    "eyedata_lens_raw.var=scv.load(\"path/Puck_190926_03_vargenes_lens.csv\")\n",
    "eyedata_lens_raw.var.index = eyedata_lens_raw.var[\"x\"]\n"
   ]
  },
  {
   "cell_type": "code",
   "execution_count": null,
   "metadata": {},
   "outputs": [],
   "source": [
    "eye_exonic_reads_raw = pd.DataFrame(eyedata_lens_raw.layers['spliced'].toarray(), index = eyedata_lens_raw.obs['clusters'].index, columns = eyedata_lens_raw.var.index)"
   ]
  },
  {
   "cell_type": "code",
   "execution_count": null,
   "metadata": {},
   "outputs": [],
   "source": [
    "eye_intronic_reads_raw = pd.DataFrame(eyedata_lens_raw.layers['unspliced'].toarray(), index = eyedata_lens_raw.obs['clusters'].index, columns = eyedata_lens_raw.var.index)"
   ]
  },
  {
   "cell_type": "code",
   "execution_count": null,
   "metadata": {
    "scrolled": false
   },
   "outputs": [],
   "source": [
    "def plot_one_gene(gene,counts):\n",
    "    figsize(10, 10)\n",
    "    pyplot.set_cmap('magma_r')\n",
    "    plt.scatter(spatial_bead_coords['xcoord']*0.549, spatial_bead_coords['ycoord']*0.549, c=counts[gene], s=15, alpha=1.0)\n",
    "    plt.axis('equal')\n",
    "    plt.vmin = 0\n",
    "    plt.title('{}'.format(gene))\n",
    "    plt.colorbar();\n",
    "    #plt.savefig(\"{}/{}{}.pdf\".format(\"dir,\"eye\"), dpi = 200)\n",
    "    #save_result(gene)\n",
    "    plt.show()\n",
    "    \n",
    "interesting_genes = ['Vax2','Aldh1a1','Crybb1','Aldh1a3','Pax6','Six3','Fgfr']\n",
    "\n",
    "for g in interesting_genes:\n",
    "    #set intronic or exonic for the dge you wish to use\n",
    "    plot_one_gene(gene=g,counts=eye_exonic_reads_raw)\n",
    "\n"
   ]
  },
  {
   "cell_type": "code",
   "execution_count": null,
   "metadata": {},
   "outputs": [],
   "source": []
  },
  {
   "cell_type": "code",
   "execution_count": null,
   "metadata": {},
   "outputs": [],
   "source": []
  }
 ],
 "metadata": {
  "kernelspec": {
   "display_name": "Python 3",
   "language": "python",
   "name": "python3"
  },
  "language_info": {
   "codemirror_mode": {
    "name": "ipython",
    "version": 3
   },
   "file_extension": ".py",
   "mimetype": "text/x-python",
   "name": "python",
   "nbconvert_exporter": "python",
   "pygments_lexer": "ipython3",
   "version": "3.6.7"
  }
 },
 "nbformat": 4,
 "nbformat_minor": 2
}
